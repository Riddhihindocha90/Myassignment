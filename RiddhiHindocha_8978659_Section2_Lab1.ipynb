{
 "cells": [
  {
   "cell_type": "markdown",
   "metadata": {},
   "source": [
    "# Part A- Create a Notebook to demonstrate NumPy Operations."
   ]
  },
  {
   "cell_type": "markdown",
   "metadata": {},
   "source": [
    "# 1. Create an array that starts from the integer 1, ends at 20, incremented by 3."
   ]
  },
  {
   "cell_type": "code",
   "execution_count": 1,
   "metadata": {},
   "outputs": [
    {
     "name": "stdout",
     "output_type": "stream",
     "text": [
      "Created NumPy Array:\n",
      "[ 1  4  7 10 13 16 19]\n"
     ]
    }
   ],
   "source": [
    "# Importing NumPy\n",
    "import numpy as np\n",
    "\n",
    "# Creating an array starting from 1, ending at 20, incremented by 3\n",
    "my_array = np.arange(1, 21, 3)\n",
    "\n",
    "# Displaying the array\n",
    "print(\"Created NumPy Array:\")\n",
    "print(my_array)"
   ]
  },
  {
   "cell_type": "markdown",
   "metadata": {},
   "source": [
    "# 2. Create a new array of shape 3 with random numbers between 0 and 1."
   ]
  },
  {
   "cell_type": "code",
   "execution_count": 2,
   "metadata": {},
   "outputs": [
    {
     "name": "stdout",
     "output_type": "stream",
     "text": [
      "New NumPy Array with Random Numbers between 0 and 1:\n",
      "[0.84093933 0.17360987 0.96028476]\n"
     ]
    }
   ],
   "source": [
    "# Importing NumPy\n",
    "import numpy as np\n",
    "\n",
    "# Creating a new array of shape (3,) with random numbers between 0 and 1\n",
    "random_array = np.random.rand(3)\n",
    "\n",
    "# Displaying the array\n",
    "print(\"New NumPy Array with Random Numbers between 0 and 1:\")\n",
    "print(random_array)"
   ]
  },
  {
   "cell_type": "markdown",
   "metadata": {},
   "source": [
    "# 3. Create a 2 D array [[10,20,45],[30,12,16],[42,17,56]] and perform the following operations:\n",
    "   o Slice the 2D array to get the first two rows, slice the 2D array to get the last two rows"
   ]
  },
  {
   "cell_type": "code",
   "execution_count": 3,
   "metadata": {},
   "outputs": [
    {
     "name": "stdout",
     "output_type": "stream",
     "text": [
      "Original 2D Array:\n",
      "[[10 20 45]\n",
      " [30 12 16]\n",
      " [42 17 56]]\n",
      "\n",
      "Sliced Array - First Two Rows:\n",
      "[[10 20 45]\n",
      " [30 12 16]]\n",
      "\n",
      "Sliced Array - Last Two Rows:\n",
      "[[30 12 16]\n",
      " [42 17 56]]\n"
     ]
    }
   ],
   "source": [
    "# Importing NumPy\n",
    "import numpy as np\n",
    "\n",
    "# Creating a 2D array\n",
    "my_2d_array = np.array([[10, 20, 45],\n",
    "                        [30, 12, 16],\n",
    "                        [42, 17, 56]])\n",
    "\n",
    "# Displaying the original 2D array\n",
    "print(\"Original 2D Array:\")\n",
    "print(my_2d_array)\n",
    "\n",
    "# Slicing to get the first two rows\n",
    "first_two_rows = my_2d_array[:2, :]\n",
    "\n",
    "# Displaying the sliced array\n",
    "print(\"\\nSliced Array - First Two Rows:\")\n",
    "print(first_two_rows)\n",
    "\n",
    "# Slicing to get the last two rows\n",
    "last_two_rows = my_2d_array[1:, :]\n",
    "\n",
    "# Displaying the sliced array\n",
    "print(\"\\nSliced Array - Last Two Rows:\")\n",
    "print(last_two_rows)\n"
   ]
  },
  {
   "cell_type": "markdown",
   "metadata": {},
   "source": [
    "# 4. Create two 2x2 arrays and demonstrate how you can stack the elements vertically, horizontally,and split the arrays into smaller arrays."
   ]
  },
  {
   "cell_type": "code",
   "execution_count": 4,
   "metadata": {},
   "outputs": [
    {
     "name": "stdout",
     "output_type": "stream",
     "text": [
      "Array 1:\n",
      "[[1 2]\n",
      " [3 4]]\n",
      "\n",
      "Array 2:\n",
      "[[5 6]\n",
      " [7 8]]\n",
      "\n",
      "Vertically Stacked Array:\n",
      "[[1 2]\n",
      " [3 4]\n",
      " [5 6]\n",
      " [7 8]]\n",
      "\n",
      "Horizontally Stacked Array:\n",
      "[[1 2 5 6]\n",
      " [3 4 7 8]]\n",
      "\n",
      "Split Vertically:\n",
      "[array([[1, 2],\n",
      "       [3, 4]]), array([[5, 6],\n",
      "       [7, 8]])]\n",
      "\n",
      "Split Horizontally:\n",
      "[array([[1, 2],\n",
      "       [3, 4]]), array([[5, 6],\n",
      "       [7, 8]])]\n"
     ]
    }
   ],
   "source": [
    "# Importing NumPy\n",
    "import numpy as np\n",
    "\n",
    "# Creating two 2x2 arrays\n",
    "array1 = np.array([[1, 2],\n",
    "                   [3, 4]])\n",
    "\n",
    "array2 = np.array([[5, 6],\n",
    "                   [7, 8]])\n",
    "\n",
    "# Displaying the original arrays\n",
    "print(\"Array 1:\")\n",
    "print(array1)\n",
    "\n",
    "print(\"\\nArray 2:\")\n",
    "print(array2)\n",
    "\n",
    "# Stack the arrays vertically\n",
    "vertical_stack = np.vstack((array1, array2))\n",
    "\n",
    "# Stack the arrays horizontally\n",
    "horizontal_stack = np.hstack((array1, array2))\n",
    "\n",
    "# Displaying the stacked arrays\n",
    "print(\"\\nVertically Stacked Array:\")\n",
    "print(vertical_stack)\n",
    "\n",
    "print(\"\\nHorizontally Stacked Array:\")\n",
    "print(horizontal_stack)\n",
    "\n",
    "# Split the arrays vertically\n",
    "split_vertical = np.vsplit(vertical_stack, 2)\n",
    "\n",
    "# Split the arrays horizontally\n",
    "split_horizontal = np.hsplit(horizontal_stack, 2)\n",
    "\n",
    "# Displaying the split arrays\n",
    "print(\"\\nSplit Vertically:\")\n",
    "print(split_vertical)\n",
    "\n",
    "print(\"\\nSplit Horizontally:\")\n",
    "print(split_horizontal)\n"
   ]
  },
  {
   "cell_type": "markdown",
   "metadata": {},
   "source": [
    "# 5. Create two matrices 𝑋 = ([[5, 7, 2],[4, 5, 6],[7, 4 ,2]]), 𝑌 = ([[4, 2],[6, 2],[4, 2]]),\n",
    "   o Is it possible to multiply these matrices?\n",
    "   o Demonstrate the case when it is not possible to."
   ]
  },
  {
   "cell_type": "code",
   "execution_count": 5,
   "metadata": {},
   "outputs": [
    {
     "name": "stdout",
     "output_type": "stream",
     "text": [
      "Matrix X:\n",
      "[[5 7 2]\n",
      " [4 5 6]\n",
      " [7 4 2]]\n",
      "\n",
      "Matrix Y:\n",
      "[[4 2]\n",
      " [6 2]\n",
      " [4 2]]\n",
      "\n",
      "Matrix Multiplication Result:\n",
      "[[70 28]\n",
      " [70 30]\n",
      " [60 26]]\n"
     ]
    }
   ],
   "source": [
    "# Importing NumPy\n",
    "import numpy as np\n",
    "\n",
    "# Creating matrices X and Y\n",
    "X = np.array([[5, 7, 2],\n",
    "              [4, 5, 6],\n",
    "              [7, 4, 2]])\n",
    "\n",
    "Y = np.array([[4, 2],\n",
    "              [6, 2],\n",
    "              [4, 2]])\n",
    "\n",
    "# Displaying matrices X and Y\n",
    "print(\"Matrix X:\")\n",
    "print(X)\n",
    "\n",
    "print(\"\\nMatrix Y:\")\n",
    "print(Y)\n",
    "\n",
    "# Checking if matrix multiplication is possible\n",
    "if X.shape[1] == Y.shape[0]:\n",
    "    # If possible, performing matrix multiplication\n",
    "    result_matrix = np.dot(X, Y)\n",
    "    print(\"\\nMatrix Multiplication Result:\")\n",
    "    print(result_matrix)\n",
    "else:\n",
    "    print(\"\\nMatrix multiplication is not possible due to incompatible dimensions.\")\n"
   ]
  },
  {
   "cell_type": "markdown",
   "metadata": {},
   "source": [
    "# 6. Create two arrays, 𝑥 = ([2, −1, −8]) 𝑦 = ([3, 1, −2]),\n",
    "o Find the Shape, Number of dimensions of vector x.\n",
    "\n",
    "o Reshape the vector x to a matrix of size (3,1) and determine the number of dimensions\n",
    "after reshaping y to a matrix of (3,1).\n"
   ]
  },
  {
   "cell_type": "code",
   "execution_count": 6,
   "metadata": {},
   "outputs": [
    {
     "name": "stdout",
     "output_type": "stream",
     "text": [
      "Vector x:\n",
      "Shape: (3,)\n",
      "Number of Dimensions: 1\n",
      "\n",
      "Reshaped x:\n",
      "[[ 2]\n",
      " [-1]\n",
      " [-8]]\n",
      "Number of Dimensions after Reshaping: 2\n",
      "\n",
      "Reshaped y:\n",
      "[[ 3]\n",
      " [ 1]\n",
      " [-2]]\n",
      "Number of Dimensions after Reshaping: 2\n"
     ]
    }
   ],
   "source": [
    "# Importing NumPy\n",
    "import numpy as np\n",
    "\n",
    "# Creating arrays x and y\n",
    "x = np.array([2, -1, -8])\n",
    "y = np.array([3, 1, -2])\n",
    "\n",
    "# Finding the shape and number of dimensions of vector x\n",
    "shape_x = x.shape\n",
    "dimensions_x = x.ndim\n",
    "\n",
    "print(\"Vector x:\")\n",
    "print(\"Shape:\", shape_x)\n",
    "print(\"Number of Dimensions:\", dimensions_x)\n",
    "\n",
    "# Reshaping vector x to a matrix of size (3,1)\n",
    "x_reshaped = x.reshape((3, 1))\n",
    "\n",
    "# Finding the number of dimensions after reshaping\n",
    "dimensions_x_reshaped = x_reshaped.ndim\n",
    "\n",
    "print(\"\\nReshaped x:\")\n",
    "print(x_reshaped)\n",
    "print(\"Number of Dimensions after Reshaping:\", dimensions_x_reshaped)\n",
    "\n",
    "# Reshaping vector y to a matrix of size (3,1)\n",
    "y_reshaped = y.reshape((3, 1))\n",
    "\n",
    "# Finding the number of dimensions after reshaping\n",
    "dimensions_y_reshaped = y_reshaped.ndim\n",
    "\n",
    "print(\"\\nReshaped y:\")\n",
    "print(y_reshaped)\n",
    "print(\"Number of Dimensions after Reshaping:\", dimensions_y_reshaped)\n"
   ]
  },
  {
   "cell_type": "markdown",
   "metadata": {},
   "source": [
    "# 7. How does broadcasting work? Demonstrate the subtraction, multiplication by considering a 3 x 3matrix."
   ]
  },
  {
   "cell_type": "code",
   "execution_count": 7,
   "metadata": {},
   "outputs": [
    {
     "name": "stdout",
     "output_type": "stream",
     "text": [
      "Vector x:\n",
      "Shape: (3,)\n",
      "Number of Dimensions: 1\n",
      "\n",
      "Reshaped x:\n",
      "[[ 2]\n",
      " [-1]\n",
      " [-8]]\n",
      "Number of Dimensions after Reshaping: 2\n",
      "\n",
      "Reshaped y:\n",
      "[[ 3]\n",
      " [ 1]\n",
      " [-2]]\n",
      "Number of Dimensions after Reshaping: 2\n"
     ]
    }
   ],
   "source": [
    "# Importing NumPy\n",
    "import numpy as np\n",
    "\n",
    "# Creating arrays x and y\n",
    "x = np.array([2, -1, -8])\n",
    "y = np.array([3, 1, -2])\n",
    "\n",
    "# Finding the shape and number of dimensions of vector x\n",
    "shape_x = x.shape\n",
    "dimensions_x = x.ndim\n",
    "\n",
    "print(\"Vector x:\")\n",
    "print(\"Shape:\", shape_x)\n",
    "print(\"Number of Dimensions:\", dimensions_x)\n",
    "\n",
    "# Reshaping vector x to a matrix of size (3,1)\n",
    "x_reshaped = x.reshape((3, 1))\n",
    "\n",
    "# Finding the number of dimensions after reshaping\n",
    "dimensions_x_reshaped = x_reshaped.ndim\n",
    "\n",
    "print(\"\\nReshaped x:\")\n",
    "print(x_reshaped)\n",
    "print(\"Number of Dimensions after Reshaping:\", dimensions_x_reshaped)\n",
    "\n",
    "# Reshaping vector y to a matrix of size (3,1)\n",
    "y_reshaped = y.reshape((3, 1))\n",
    "\n",
    "# Finding the number of dimensions after reshaping\n",
    "dimensions_y_reshaped = y_reshaped.ndim\n",
    "\n",
    "print(\"\\nReshaped y:\")\n",
    "print(y_reshaped)\n",
    "print(\"Number of Dimensions after Reshaping:\", dimensions_y_reshaped)\n"
   ]
  },
  {
   "cell_type": "markdown",
   "metadata": {},
   "source": [
    "# PART B - Linear Equations \n",
    "\n",
    "Determine the singularity of the system of equations, comment on the expected solution of the system.\n",
    "Solve the system of equations if possible. Justify the reason why you believe the system can or cannot be\n",
    "solved using NumPy functions."
   ]
  },
  {
   "cell_type": "markdown",
   "metadata": {},
   "source": [
    "# Part B.1\n",
    "\n",
    "1. 4x + y - 2z = 10\n",
    "2. 2x - 3y + 2z = -4\n",
    "3. x + 2y + 3z = 6"
   ]
  },
  {
   "cell_type": "code",
   "execution_count": 8,
   "metadata": {},
   "outputs": [
    {
     "name": "stdout",
     "output_type": "stream",
     "text": [
      "Determinant of Matrix A: -70.00000000000003\n",
      "Solution for the System: [ 1.8  2.4 -0.2]\n"
     ]
    }
   ],
   "source": [
    "# Importing NumPy\n",
    "import numpy as np\n",
    "\n",
    "# Coefficient matrix for the system\n",
    "A = np.array([[4, 1, -2],\n",
    "               [2, -3, 2],\n",
    "               [1, 2, 3]])\n",
    "\n",
    "# Calculating determinant\n",
    "det_A = np.linalg.det(A)\n",
    "\n",
    "print(\"Determinant of Matrix A:\", det_A)\n",
    "\n",
    "# Solving the system if the determinant is non-zero\n",
    "if det_A != 0:\n",
    "    solution = np.linalg.solve(A, [10, -4, 6])\n",
    "    print(\"Solution for the System:\", solution)\n",
    "else:\n",
    "    print(\"The system is singular (det(A) = 0), and a unique solution may not exist.\")\n"
   ]
  },
  {
   "cell_type": "markdown",
   "metadata": {},
   "source": [
    "# Part B.2\n",
    "\n",
    "1. 2x - y + 3z + 4w = 10\n",
    "2. 4x - 2y + 6z + 8w = 20\n",
    "3. 3x + y - 2z + 2w = 3\n",
    "4. x + 3y - 4z + w = -1\n"
   ]
  },
  {
   "cell_type": "code",
   "execution_count": 9,
   "metadata": {},
   "outputs": [
    {
     "name": "stdout",
     "output_type": "stream",
     "text": [
      "Determinant of Matrix A: 0.0\n",
      "\n",
      "The system is singular (det(A) = 0), and a unique solution may not exist.\n"
     ]
    }
   ],
   "source": [
    "# Importing NumPy\n",
    "import numpy as np\n",
    "\n",
    "# Coefficient matrix for the system\n",
    "A = np.array([[2, -1, 3, 4],\n",
    "               [4, -2, 6, 8],\n",
    "               [3, 1, -2, 2],\n",
    "               [1, 3, -4, 1]])\n",
    "\n",
    "# Calculating determinant\n",
    "det_A = np.linalg.det(A)\n",
    "\n",
    "print(\"Determinant of Matrix A:\", det_A)\n",
    "\n",
    "# Solving the system if the determinant is non-zero\n",
    "if det_A != 0:\n",
    "    solution = np.linalg.solve(A, [10, 20, 3, -1])\n",
    "    print(\"\\nSolution for the System:\", solution)\n",
    "else:\n",
    "    print(\"\\nThe system is singular (det(A) = 0), and a unique solution may not exist.\")\n"
   ]
  }
 ],
 "metadata": {
  "kernelspec": {
   "display_name": "CSCN8010_classic_ml",
   "language": "python",
   "name": "python3"
  },
  "language_info": {
   "codemirror_mode": {
    "name": "ipython",
    "version": 3
   },
   "file_extension": ".py",
   "mimetype": "text/x-python",
   "name": "python",
   "nbconvert_exporter": "python",
   "pygments_lexer": "ipython3",
   "version": "3.11.7"
  }
 },
 "nbformat": 4,
 "nbformat_minor": 2
}
