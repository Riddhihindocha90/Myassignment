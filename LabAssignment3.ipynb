{
 "cells": [
  {
   "cell_type": "code",
   "execution_count": 49,
   "metadata": {},
   "outputs": [],
   "source": [
    "import numpy as np"
   ]
  },
  {
   "cell_type": "code",
   "execution_count": 50,
   "metadata": {},
   "outputs": [
    {
     "name": "stdout",
     "output_type": "stream",
     "text": [
      "True\n"
     ]
    }
   ],
   "source": [
    "#def no_zeros(arrayInput):\n",
    "    ## TODO: This function should return True if \n",
    "    ## numpy array arrayInput does not contain any zero\n",
    "    ## and will return False otherwise.\n",
    "    ## Implement this function using ONLY numpy methods\n",
    "    ## Sample input: [1,2,3,4,5,6,0] Sample Output: False\n",
    "    #return False\n",
    "\n",
    "import numpy as np\n",
    "\n",
    "def no_zeros(arrayInput):\n",
    "    return not np.any(np.array(arrayInput) == 0)\n",
    "\n",
    "# Test the function\n",
    "sample_input = [1, 2, 3, 4, 5, 6,8,9]\n",
    "result = no_zeros(sample_input)\n",
    "print(result)\n"
   ]
  },
  {
   "cell_type": "code",
   "execution_count": 51,
   "metadata": {},
   "outputs": [
    {
     "name": "stdout",
     "output_type": "stream",
     "text": [
      "[ 0 25 50 75]\n"
     ]
    }
   ],
   "source": [
    "#def linearly_distributed(n, min, max):\n",
    "    ## TODO: This function should return a numpy array of \n",
    "    ## length n with equally spaced elements from \n",
    "    ## min (inclusive) to max (exclusive)\n",
    "    ## Implement this function using ONLY numpy methods\n",
    "    ## Sample input: (4,0,100) sample output [0,33,66, 99]\n",
    "    #return np.array({})\n",
    "\n",
    "import numpy as np\n",
    "\n",
    "def linearly_distributed(n, minimum, maximum):\n",
    "    return np.linspace(minimum, maximum, n, endpoint=False, dtype=int)\n",
    "\n",
    "# Test the function\n",
    "sample_output = linearly_distributed(4, 0, 100)\n",
    "print(sample_output)\n"
   ]
  },
  {
   "cell_type": "code",
   "execution_count": 52,
   "metadata": {},
   "outputs": [
    {
     "name": "stdout",
     "output_type": "stream",
     "text": [
      "[[1 1 1]\n",
      " [1 0 1]\n",
      " [1 1 1]]\n"
     ]
    }
   ],
   "source": [
    "#def two_dimensions(n):\n",
    "    ## TODO: This function should create a 2d Array of shape n*n\n",
    "    ## Where the borders of the array are ones\n",
    "    ## all other elements are zero\n",
    "    ## Implement this function using ONLY numpy methods\n",
    "    ## Sample input 3\n",
    "    ## sample output [[1,1,1],[1,0,1],[1,1,1]]\n",
    "    #return np.array({})\n",
    "\n",
    "import numpy as np\n",
    "\n",
    "def two_dimensions(n):\n",
    "    arr = np.zeros((n, n), dtype=int)\n",
    "    arr[0, :] = 1  # Set the first row to ones\n",
    "    arr[-1, :] = 1  # Set the last row to ones\n",
    "    arr[:, 0] = 1  # Set the first column to ones\n",
    "    arr[:, -1] = 1  # Set the last column to ones\n",
    "    return arr\n",
    "\n",
    "# Test the function\n",
    "sample_output = two_dimensions(3)\n",
    "print(sample_output)\n",
    "\n",
    "\n",
    "\n",
    "    "
   ]
  },
  {
   "cell_type": "code",
   "execution_count": 53,
   "metadata": {},
   "outputs": [
    {
     "name": "stdout",
     "output_type": "stream",
     "text": [
      "[3.12884116 1.74868076 2.506044   5.95478276 6.442823   6.8700347\n",
      " 5.10134407 7.0073958 ]\n"
     ]
    }
   ],
   "source": [
    "#def create_array(n,min,max):\n",
    "    ## TODO: This function should return a numpy array of \n",
    "    ## length n with random elements from \n",
    "    ## min (inclusive) to max (exclusive)\n",
    "    ## Implement this function using ONLY numpy methods \n",
    "    ## USE np.random.rand for generating the numbers \n",
    "    ## Sample Input (10,0,10) sample output(0,2,2,3,1,5,9,7,8,3)\n",
    "    #return np.array({})\n",
    "\n",
    "import numpy as np\n",
    "\n",
    "def create_array(n, minimum, maximum):\n",
    "    return np.random.rand(n) * (maximum - minimum) + minimum\n",
    "\n",
    "# Test the function\n",
    "sample_output = create_array(8, 0, 8)\n",
    "print(sample_output)\n"
   ]
  },
  {
   "cell_type": "code",
   "execution_count": 54,
   "metadata": {},
   "outputs": [
    {
     "name": "stdout",
     "output_type": "stream",
     "text": [
      "[[10  8 14]\n",
      " [ 5  6  9]\n",
      " [11 12  4]]\n"
     ]
    }
   ],
   "source": [
    "#def random_generation(n,min,max):\n",
    "    ## TODO: Write a function that takes as an input\n",
    "    ## Dimension of 2d Array n, min and max\n",
    "    ## Generate an n*n array with random numbers between\n",
    "    ## min and max inclusive\n",
    "    ## Such that no element is duplicated\n",
    "    ## return numpy array\n",
    "    ## Implement this function using ONLY numpy methods\n",
    "    ## Sample Input: random_generation(3,0,12) --> [[4,2,6],[1,5,11],[10, 3,9]]\n",
    "    #return np.array({})\n",
    "\n",
    "import numpy as np\n",
    "\n",
    "def random_generation(n, minimum, maximum):\n",
    "    unique_elements = np.random.choice(np.arange(minimum, maximum + 1), size=n*n, replace=False)\n",
    "    return unique_elements.reshape((n, n))\n",
    "\n",
    "# Test the function\n",
    "sample_output = random_generation(3, 3, 18)\n",
    "print(sample_output)\n"
   ]
  }
 ],
 "metadata": {
  "kernelspec": {
   "display_name": "Python 3",
   "language": "python",
   "name": "python3"
  },
  "language_info": {
   "codemirror_mode": {
    "name": "ipython",
    "version": 3
   },
   "file_extension": ".py",
   "mimetype": "text/x-python",
   "name": "python",
   "nbconvert_exporter": "python",
   "pygments_lexer": "ipython3",
   "version": "3.11.7"
  },
  "orig_nbformat": 4
 },
 "nbformat": 4,
 "nbformat_minor": 2
}
