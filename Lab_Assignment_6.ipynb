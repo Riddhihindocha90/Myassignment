{
 "cells": [
  {
   "attachments": {},
   "cell_type": "markdown",
   "metadata": {},
   "source": [
    "# Lab Assignment 6\n",
    "#### This Lab task is to completed individually, Please Add your Name and ID Below, please comment your code thoroughly and name your variables wisely. (Grade out of 23, 3 marks for commented organized code.)\n",
    "- Name: RIDDHI HINDOCHA\n",
    "- ID:8978659"
   ]
  },
  {
   "attachments": {},
   "cell_type": "markdown",
   "metadata": {},
   "source": [
    "## Question 1- DATA INTEGRATION:  (5)\n",
    "Check the files inside microbiome folder, (MID1, MID2, ... , MID9.xls files), you need to combine those files into single dataframe.<br>\n",
    "Then You will need to add to this dataframe the relevant metadata information from metadata.csv <br>\n",
    "Each folder represents information from different bacteria, MID1, MID2, ...\n",
    "<br>\n",
    "__Inspect the files before answering the question__\n"
   ]
  },
  {
   "cell_type": "code",
   "execution_count": 50,
   "metadata": {},
   "outputs": [
    {
     "name": "stdout",
     "output_type": "stream",
     "text": [
      "     BARCODE GROUP_x SAMPLE_x   \n",
      "0       MID1     NaN      NaN  \\\n",
      "1       MID1     NaN      NaN   \n",
      "2       MID1     NaN      NaN   \n",
      "3       MID1     NaN      NaN   \n",
      "4       MID1     NaN      NaN   \n",
      "...      ...     ...      ...   \n",
      "2382    MID9     NaN      NaN   \n",
      "2383    MID9     NaN      NaN   \n",
      "2384    MID9     NaN      NaN   \n",
      "2385    MID9     NaN      NaN   \n",
      "2386    MID9     NaN      NaN   \n",
      "\n",
      "     Archaea \"Crenarchaeota\" Thermoprotei Desulfurococcales Desulfurococcaceae Ignisphaera   \n",
      "0     Archaea \"Crenarchaeota\" Thermoprotei Desulfuro...                                     \\\n",
      "1     Archaea \"Crenarchaeota\" Thermoprotei Sulfoloba...                                      \n",
      "2     Archaea \"Crenarchaeota\" Thermoprotei Thermopro...                                      \n",
      "3     Archaea \"Euryarchaeota\" \"Methanomicrobia\" Meth...                                      \n",
      "4     Archaea \"Euryarchaeota\" \"Methanomicrobia\" Meth...                                      \n",
      "...                                                 ...                                      \n",
      "2382                                                NaN                                      \n",
      "2383                                                NaN                                      \n",
      "2384                                                NaN                                      \n",
      "2385                                                NaN                                      \n",
      "2386                                                NaN                                      \n",
      "\n",
      "        7   \n",
      "0     2.0  \\\n",
      "1     3.0   \n",
      "2     3.0   \n",
      "3     7.0   \n",
      "4     1.0   \n",
      "...   ...   \n",
      "2382  NaN   \n",
      "2383  NaN   \n",
      "2384  NaN   \n",
      "2385  NaN   \n",
      "2386  NaN   \n",
      "\n",
      "     Archaea \"Crenarchaeota\" Thermoprotei Acidilobales Acidilobaceae Acidilobus   \n",
      "0                                                   NaN                          \\\n",
      "1                                                   NaN                           \n",
      "2                                                   NaN                           \n",
      "3                                                   NaN                           \n",
      "4                                                   NaN                           \n",
      "...                                                 ...                           \n",
      "2382                                                NaN                           \n",
      "2383                                                NaN                           \n",
      "2384                                                NaN                           \n",
      "2385                                                NaN                           \n",
      "2386                                                NaN                           \n",
      "\n",
      "       2     1   5   \n",
      "0    NaN   NaN NaN  \\\n",
      "1    NaN   NaN NaN   \n",
      "2    NaN   NaN NaN   \n",
      "3    NaN   NaN NaN   \n",
      "4    NaN   NaN NaN   \n",
      "...   ..   ...  ..   \n",
      "2382 NaN  43.0 NaN   \n",
      "2383 NaN  16.0 NaN   \n",
      "2384 NaN   1.0 NaN   \n",
      "2385 NaN   1.0 NaN   \n",
      "2386 NaN  10.0 NaN   \n",
      "\n",
      "     Archaea \"Crenarchaeota\" Thermoprotei Acidilobales Caldisphaeraceae Caldisphaera   \n",
      "0                                                   NaN                               \\\n",
      "1                                                   NaN                                \n",
      "2                                                   NaN                                \n",
      "3                                                   NaN                                \n",
      "4                                                   NaN                                \n",
      "...                                                 ...                                \n",
      "2382  Bacteria \"Thermotogae\" Thermotogae Thermotogal...                                \n",
      "2383  Bacteria \"Thermotogae\" Thermotogae Thermotogal...                                \n",
      "2384  Bacteria \"Verrucomicrobia\" Opitutae Opitutales...                                \n",
      "2385  Bacteria Cyanobacteria Cyanobacteria  Chloropl...                                \n",
      "2386  Bacteria Cyanobacteria Cyanobacteria  Chloropl...                                \n",
      "\n",
      "     Archaea \"Crenarchaeota\" Thermoprotei Sulfolobales Sulfolobaceae Stygiolobus   \n",
      "0                                                   NaN                           \\\n",
      "1                                                   NaN                            \n",
      "2                                                   NaN                            \n",
      "3                                                   NaN                            \n",
      "4                                                   NaN                            \n",
      "...                                                 ...                            \n",
      "2382                                                NaN                            \n",
      "2383                                                NaN                            \n",
      "2384                                                NaN                            \n",
      "2385                                                NaN                            \n",
      "2386                                                NaN                            \n",
      "\n",
      "                 GROUP_y SAMPLE_y  \n",
      "0     EXTRACTION CONTROL      NaN  \n",
      "1     EXTRACTION CONTROL      NaN  \n",
      "2     EXTRACTION CONTROL      NaN  \n",
      "3     EXTRACTION CONTROL      NaN  \n",
      "4     EXTRACTION CONTROL      NaN  \n",
      "...                  ...      ...  \n",
      "2382           Control 2    stool  \n",
      "2383           Control 2    stool  \n",
      "2384           Control 2    stool  \n",
      "2385           Control 2    stool  \n",
      "2386           Control 2    stool  \n",
      "\n",
      "[2387 rows x 13 columns]\n"
     ]
    }
   ],
   "source": [
    "import pandas as pd\n",
    "import os\n",
    "\n",
    "def read_microbiome_files(folder_path):\n",
    "    dfs = []\n",
    "\n",
    "    for file_name in os.listdir(folder_path):\n",
    "        if file_name.endswith(\".xls\"):\n",
    "            file_path = os.path.join(folder_path, file_name)\n",
    "            df = pd.read_excel(file_path)\n",
    "\n",
    "            mid_number = file_name.split(\".\")[0]\n",
    "            df['BARCODE'] = mid_number\n",
    "            dfs.append(df)\n",
    "\n",
    "    return pd.concat(dfs)\n",
    "\n",
    "def read_metadata_file(folder_path, metadata_filename=\"metadata.csv\"):\n",
    "    metadata_path = os.path.join(folder_path, metadata_filename)\n",
    "    return pd.read_csv(metadata_path)\n",
    "\n",
    "def merge_microbiome_metadata(microbiome_df, metadata_df, merge_column='BARCODE'):\n",
    "    if merge_column in microbiome_df.columns and merge_column in metadata_df.columns:\n",
    "        return pd.merge(microbiome_df, metadata_df, on=merge_column)\n",
    "    else:\n",
    "        print(f\"{merge_column} column not found.\")\n",
    "        return None\n",
    "\n",
    "if __name__ == \"__main__\":\n",
    "    microbiome_folder = os.path.join(os.getcwd(), 'data', 'microbiome')\n",
    "\n",
    "    # Read microbiome files\n",
    "    microbiome_df = read_microbiome_files(microbiome_folder)\n",
    "\n",
    "    # Read metadata file\n",
    "    metadata_df = read_metadata_file(microbiome_folder)\n",
    "\n",
    "    # Merge microbiome_df with metadata_df using the 'BARCODE' column as the key\n",
    "    merged_df = merge_microbiome_metadata(microbiome_df, metadata_df)\n",
    "\n",
    "    if merged_df is not None:\n",
    "        print(merged_df)\n"
   ]
  },
  {
   "cell_type": "code",
   "execution_count": 51,
   "metadata": {},
   "outputs": [
    {
     "name": "stdout",
     "output_type": "stream",
     "text": [
      "Requirement already satisfied: xlrd in c:\\users\\riddhi\\downloads\\mycscn10_lab\\mycscn80\\venv\\cscn8010_classic_ml\\lib\\site-packages (2.0.1)\n",
      "Note: you may need to restart the kernel to use updated packages.\n"
     ]
    },
    {
     "name": "stderr",
     "output_type": "stream",
     "text": [
      "\n",
      "[notice] A new release of pip is available: 23.3.2 -> 24.0\n",
      "[notice] To update, run: python.exe -m pip install --upgrade pip\n"
     ]
    }
   ],
   "source": [
    "pip install xlrd"
   ]
  },
  {
   "attachments": {},
   "cell_type": "markdown",
   "metadata": {},
   "source": [
    "## Question 2- Feature Engineering - Attribute Correlation (15)\n",
    "- Load the file income_data.csv, inspect the columns.\n",
    "- Determine if race and education features have a statistical relationship. \n",
    "- Explain and conclude your findings (7 till here)\n",
    "- Inspect the dataset carefully and create an Indicator Feature (0/1) --(3 marks here)\n",
    "- Inspect the dataset carefully and create an Interaction Feature (Additional feature engineered from your dataset)-- (3 marks here)<br>\n",
    "__The features you create must be resonable, please add an explanation to explain why did you chose those features__  (2)"
   ]
  },
  {
   "cell_type": "code",
   "execution_count": 52,
   "metadata": {},
   "outputs": [
    {
     "name": "stdout",
     "output_type": "stream",
     "text": [
      "Index(['age', 'workclass', 'fnlwgt', 'education', 'educational-num',\n",
      "       'marital-status', 'occupation', 'relationship', 'race', 'gender',\n",
      "       'capital-gain', 'capital-loss', 'hours-per-week', 'native-country',\n",
      "       'income'],\n",
      "      dtype='object')\n"
     ]
    }
   ],
   "source": [
    "import pandas as pd\n",
    "\n",
    "# Specify the file path\n",
    "file_path = 'C:/Users/Riddhi/Downloads/Myassignment/data/income_data.csv'\n",
    "\n",
    "# Read the income dataset\n",
    "df = pd.read_csv(file_path)\n",
    "\n",
    "# Inspect the columns\n",
    "print(df.columns)\n"
   ]
  },
  {
   "cell_type": "markdown",
   "metadata": {},
   "source": [
    "### Determine if race and education features have a statistical relationship. "
   ]
  },
  {
   "cell_type": "code",
   "execution_count": 53,
   "metadata": {},
   "outputs": [
    {
     "name": "stdout",
     "output_type": "stream",
     "text": [
      "Chi-square statistic: 1040.6622432490267\n",
      "p-value: 7.472985630264855e-179\n"
     ]
    }
   ],
   "source": [
    "import pandas as pd\n",
    "from scipy.stats import chi2_contingency\n",
    "\n",
    "# Assuming you already have the dataframe 'df' with the relevant columns\n",
    "\n",
    "# Create a contingency table of race and education\n",
    "contingency_table = pd.crosstab(df['race'], df['education'])\n",
    "\n",
    "# Convert the contingency table to a numpy array\n",
    "observed = contingency_table.values\n",
    "\n",
    "# Perform the Chi-squared test\n",
    "chi2, p, dof, expected = chi2_contingency(observed)\n",
    "\n",
    "# Results\n",
    "print(\"Chi-square statistic:\", chi2)\n",
    "print(\"p-value:\", p)\n"
   ]
  },
  {
   "cell_type": "markdown",
   "metadata": {},
   "source": [
    "### Explain and conclude your findings "
   ]
  },
  {
   "cell_type": "markdown",
   "metadata": {},
   "source": [
    "Hypothesis: Determine whether the \"race\" and \"education\" attributes in the dataset are statistically connected.\n",
    "\n",
    "Chi-squared Test for Independence: To study the association between two categorical variables, we employed the Chi-squared test, a common statistical approach.\n",
    "\n",
    "Analysis of Findings:\n",
    "\n",
    "1. Chi-square statistic: Determines how much the actual and expected frequencies in the contingency table differ from each other. Greater values indicate a more substantial discrepancy.\n",
    "2. P-value: If the two variables were independent, the p-value would reflect the probability of finding the data. A lower p-value suggests that it is unlikely that the observed correlation is due to chance.\n",
    "\n",
    "Findings:\n",
    "\n",
    "The null hypothesis is rejected if the p-value is less than the chosen significance level, which is often 0.05, indicating a significant relationship between race and education.\n",
    "If the p-value is greater than or equal to 0.05, the null hypothesis cannot be rejected because there is no significant relationship between race and education.\n",
    "\n",
    "\n",
    "Summary:\n",
    "\n",
    "If the p-value is less than 0.05, we conclude that the dataset contains a statistically significant link between race and education.\n",
    "We draw the conclusion that there is insufficient data to demonstrate a significant link between race and education if the p-value is equal to or larger than 0.05.\n",
    "\n",
    "Consideration:\n",
    "\n",
    "The Chi-squared test has limitations that must be addressed, as do the assumptions that underpin it, such as the adequacy of the sample size and the observed independence.\n",
    "Furthermore, whereas statistical significance indicates a link, it does not always imply necessity. The underlying processes behind any found relationships typically require more examination."
   ]
  },
  {
   "cell_type": "markdown",
   "metadata": {},
   "source": [
    "### Inspect the dataset carefully and create an Indicator Feature"
   ]
  },
  {
   "cell_type": "code",
   "execution_count": 54,
   "metadata": {},
   "outputs": [
    {
     "name": "stdout",
     "output_type": "stream",
     "text": [
      "   age  workclass  fnlwgt     education  educational-num      marital-status   \n",
      "0   25    Private  226802          11th                7       Never-married  \\\n",
      "1   38    Private   89814       HS-grad                9  Married-civ-spouse   \n",
      "2   28  Local-gov  336951    Assoc-acdm               12  Married-civ-spouse   \n",
      "3   44    Private  160323  Some-college               10  Married-civ-spouse   \n",
      "4   18          ?  103497  Some-college               10       Never-married   \n",
      "\n",
      "          occupation relationship   race  gender  capital-gain  capital-loss   \n",
      "0  Machine-op-inspct    Own-child  Black    Male             0             0  \\\n",
      "1    Farming-fishing      Husband  White    Male             0             0   \n",
      "2    Protective-serv      Husband  White    Male             0             0   \n",
      "3  Machine-op-inspct      Husband  Black    Male          7688             0   \n",
      "4                  ?    Own-child  White  Female             0             0   \n",
      "\n",
      "   hours-per-week native-country income  HighEducation  \n",
      "0              40  United-States  <=50K              0  \n",
      "1              50  United-States  <=50K              0  \n",
      "2              40  United-States   >50K              0  \n",
      "3              40  United-States   >50K              0  \n",
      "4              30  United-States  <=50K              0  \n"
     ]
    }
   ],
   "source": [
    "import pandas as pd\n",
    "\n",
    "# Assuming you already have the dataframe 'df' with the relevant column 'education'\n",
    "\n",
    "# Conditions for the indicator feature\n",
    "high_education_conditions = df['education'].isin(['Bachelors', 'Masters', 'Doctorate'])\n",
    "\n",
    "# Create the indicator feature\n",
    "df['HighEducation'] = high_education_conditions.astype(int)\n",
    "\n",
    "# Display the first few rows of the dataframe with the new indicator feature\n",
    "print(df.head())\n"
   ]
  },
  {
   "cell_type": "markdown",
   "metadata": {},
   "source": [
    "### Inspect the dataset carefully and create an Interaction Feature (Additional feature engineered from your dataset)"
   ]
  },
  {
   "cell_type": "code",
   "execution_count": 55,
   "metadata": {},
   "outputs": [
    {
     "name": "stdout",
     "output_type": "stream",
     "text": [
      "   age  workclass  fnlwgt     education  educational-num      marital-status   \n",
      "0   25    Private  226802          11th                7       Never-married  \\\n",
      "1   38    Private   89814       HS-grad                9  Married-civ-spouse   \n",
      "2   28  Local-gov  336951    Assoc-acdm               12  Married-civ-spouse   \n",
      "3   44    Private  160323  Some-college               10  Married-civ-spouse   \n",
      "4   18          ?  103497  Some-college               10       Never-married   \n",
      "\n",
      "          occupation relationship   race  gender  capital-gain  capital-loss   \n",
      "0  Machine-op-inspct    Own-child  Black    Male             0             0  \\\n",
      "1    Farming-fishing      Husband  White    Male             0             0   \n",
      "2    Protective-serv      Husband  White    Male             0             0   \n",
      "3  Machine-op-inspct      Husband  Black    Male          7688             0   \n",
      "4                  ?    Own-child  White  Female             0             0   \n",
      "\n",
      "   hours-per-week native-country  income  HighEducation Education_Numeric   \n",
      "0              40  United-States     NaN              0                 7  \\\n",
      "1              50  United-States     NaN              0                 9   \n",
      "2              40  United-States     NaN              0                11   \n",
      "3              40  United-States     NaN              0                10   \n",
      "4              30  United-States     NaN              0                10   \n",
      "\n",
      "  Income_Education  \n",
      "0              NaN  \n",
      "1              NaN  \n",
      "2              NaN  \n",
      "3              NaN  \n",
      "4              NaN  \n"
     ]
    }
   ],
   "source": [
    "import pandas as pd\n",
    "\n",
    "# Assuming you already have the dataframe 'df' with the relevant columns 'education' and 'income'\n",
    "\n",
    "# Education levels to numeric representation\n",
    "education_mapping = {\n",
    "    'Preschool': 1, '1st-4th': 2, '5th-6th': 3, '7th-8th': 4,\n",
    "    '9th': 5, '10th': 6, '11th': 7, '12th': 8, 'HS-grad': 9,\n",
    "    'Some-college': 10, 'Assoc-acdm': 11, 'Assoc-voc': 12,\n",
    "    'Bachelors': 13, 'Masters': 14, 'Doctorate': 15\n",
    "}\n",
    "\n",
    "# Replace education levels with numeric representation\n",
    "df['Education_Numeric'] = df['education'].replace(education_mapping)\n",
    "\n",
    "# Convert income column to numeric type\n",
    "df['income'] = pd.to_numeric(df['income'], errors='coerce')\n",
    "\n",
    "# Create the interaction feature\n",
    "df['Income_Education'] = df['Education_Numeric'] * df['income']\n",
    "\n",
    "# Display the first few rows of the dataframe with the new interaction feature\n",
    "print(df.head())\n"
   ]
  },
  {
   "cell_type": "markdown",
   "metadata": {},
   "source": [
    "### The features you create must be resonable, please add an explanation to explain why did you chose those features"
   ]
  },
  {
   "cell_type": "markdown",
   "metadata": {},
   "source": [
    "INCOME_EDUCATION: \n",
    "The interaction feature \"Income_Education\" allows us to better capture the fundamental linkages in the data by capturing the combined influence of income and education on the outcome of interest.\n",
    "\n",
    "\n",
    "1. Relevance: It is well acknowledged that money and education are essential socioeconomic variables that influence a variety of outcomes, including job status, life satisfaction, and even health effects. Combining these two characteristics into an interaction feature allows us to capture potential synergistic effects.\n",
    "\n",
    "2. Theoretical Justification: It appears reasonable to assume that income and education will interact. Higher education levels are typically linked to increased earning potential and improved job possibilities. It is probable that there is a nonlinear relationship between income and education. For example, the impact of education on income varies depending on a number of factors, including the specific subject of study and educational attainment level.\n",
    "\n",
    "3. Model Performance: By capturing potential non-linear correlations or interactions between predictors, interaction features may improve model prediction. We provide the model with additional data that would not be gained by each feature alone by merging income and education into an interaction feature.\n",
    "\n",
    "4. Interpretability: \"Income_Education\" is an understandable and intuitive interaction element. It is the outcome of multiplying income by the quantitative representation of education to determine one's level of education. lesser values for this attribute indicate lesser income, lower levels of education, or both. Higher values of this trait indicate higher levels of income and education."
   ]
  }
 ],
 "metadata": {
  "kernelspec": {
   "display_name": "CSCN8010_classic_ml",
   "language": "python",
   "name": "python3"
  },
  "language_info": {
   "codemirror_mode": {
    "name": "ipython",
    "version": 3
   },
   "file_extension": ".py",
   "mimetype": "text/x-python",
   "name": "python",
   "nbconvert_exporter": "python",
   "pygments_lexer": "ipython3",
   "version": "3.11.7"
  },
  "orig_nbformat": 4
 },
 "nbformat": 4,
 "nbformat_minor": 2
}
