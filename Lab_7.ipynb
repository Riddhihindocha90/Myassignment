{
 "cells": [
  {
   "cell_type": "markdown",
   "metadata": {},
   "source": [
    "# Lab 7 - Performance Metrics for Classification Problems\n",
    "## Name : Riddhi Hindocha\n",
    "## Student id : 8978659"
   ]
  },
  {
   "cell_type": "code",
   "execution_count": 168,
   "metadata": {},
   "outputs": [],
   "source": [
    "import numpy as np\n",
    "from matplotlib import pyplot as plt\n",
    "import matplotlib.patches as patches  # for curved arrows\n",
    "import seaborn as sns\n",
    "\n",
    "# The web source of the MNIST dataset that we will work with\n",
    "from sklearn.datasets import fetch_openml\n",
    "\n",
    "# The classifiers we will use in this notebook\n",
    "from sklearn.linear_model import SGDClassifier\n",
    "from sklearn.dummy import DummyClassifier\n",
    "from sklearn.ensemble import RandomForestClassifier\n",
    "\n",
    "# cross validation functions\n",
    "from sklearn.model_selection import cross_validate, cross_val_predict\n",
    "\n",
    "# performance metrics\n",
    "from sklearn.metrics import confusion_matrix, precision_score, recall_score, f1_score, precision_recall_curve, roc_curve, roc_auc_score\n",
    "\n",
    "import warnings\n",
    "warnings.filterwarnings(\"ignore\")\n",
    "import pandas as pd\n",
    "import matplotlib.pyplot as plt\n",
    "import seaborn as sns\n",
    "from sklearn.model_selection import train_test_split\n",
    "from sklearn.metrics import accuracy_score, confusion_matrix, precision_score, recall_score, f1_score, precision_recall_curve\n",
    "from sklearn.neural_network import MLPClassifier\n",
    "from sklearn.preprocessing import StandardScaler"
   ]
  },
  {
   "cell_type": "markdown",
   "metadata": {},
   "source": [
    "# Download the MNIST data "
   ]
  },
  {
   "cell_type": "code",
   "execution_count": 169,
   "metadata": {},
   "outputs": [],
   "source": [
    "from sklearn.datasets import fetch_openml\n",
    "mnist = fetch_openml('mnist_784', version=1)\n",
    "\n",
    "X = mnist.data\n",
    "Y = mnist.target.astype(int)"
   ]
  },
  {
   "cell_type": "code",
   "execution_count": 170,
   "metadata": {},
   "outputs": [
    {
     "name": "stdout",
     "output_type": "stream",
     "text": [
      "MNIST data shape: (70000, 784)\n",
      "MNIST target shape: (70000,)\n",
      "Number of unique classes: 10\n"
     ]
    }
   ],
   "source": [
    "print(\"MNIST data shape:\", X.shape)\n",
    "print(\"MNIST target shape:\", Y.shape)\n",
    "print(\"Number of unique classes:\", len(np.unique(Y)))"
   ]
  },
  {
   "cell_type": "code",
   "execution_count": 171,
   "metadata": {},
   "outputs": [
    {
     "data": {
      "text/plain": [
       "['data',\n",
       " 'target',\n",
       " 'frame',\n",
       " 'categories',\n",
       " 'feature_names',\n",
       " 'target_names',\n",
       " 'DESCR',\n",
       " 'details',\n",
       " 'url']"
      ]
     },
     "execution_count": 171,
     "metadata": {},
     "output_type": "execute_result"
    }
   ],
   "source": [
    "list(mnist)"
   ]
  },
  {
   "cell_type": "code",
   "execution_count": 172,
   "metadata": {},
   "outputs": [],
   "source": [
    "import seaborn as sns\n",
    "import pandas as pd\n",
    "\n",
    "from sklearn.datasets import fetch_openml\n",
    "sns.set_theme(style='white', context='notebook', palette='deep')\n",
    "mnist = fetch_openml('mnist_784', as_frame=False, parser='auto')\n",
    "mnist.data.shape, mnist.target.shape\n",
    "\n",
    "X = pd.DataFrame(mnist.data)\n",
    "y = pd.DataFrame(mnist.target)\n",
    "mnist.data.shape, mnist.target.shape\n",
    "\n",
    "X = pd.DataFrame(mnist.data)\n",
    "y = pd.DataFrame(mnist.target)"
   ]
  },
  {
   "cell_type": "code",
   "execution_count": 173,
   "metadata": {},
   "outputs": [
    {
     "name": "stdout",
     "output_type": "stream",
     "text": [
      "(70000, 784)\n"
     ]
    }
   ],
   "source": [
    "mnist = fetch_openml('mnist_784', as_frame=False, parser='auto')\n",
    "df_mnist_dataset = mnist.data\n",
    "\n",
    "print(mnist.data.shape)"
   ]
  },
  {
   "cell_type": "code",
   "execution_count": 174,
   "metadata": {},
   "outputs": [
    {
     "name": "stdout",
     "output_type": "stream",
     "text": [
      "**Author**: Yann LeCun, Corinna Cortes, Christopher J.C. Burges  \n",
      "**Source**: [MNIST Website](http://yann.lecun.com/exdb/mnist/) - Date unknown  \n",
      "**Please cite**:  \n",
      "\n",
      "The MNIST database of handwritten digits with 784 features, raw data available at: http://yann.lecun.com/exdb/mnist/. It can be split in a training set of the first 60,000 examples, and a test set of 10,000 examples  \n",
      "\n",
      "It is a subset of a larger set available from NIST. The digits have been size-normalized and centered in a fixed-size image. It is a good database for people who want to try learning techniques and pattern recognition methods on real-world data while spending minimal efforts on preprocessing and formatting. The original black and white (bilevel) images from NIST were size normalized to fit in a 20x20 pixel box while preserving their aspect ratio. The resulting images contain grey levels as a result of the anti-aliasing technique used by the normalization algorithm. the images were centered in a 28x28 image by computing the center of mass of the pixels, and translating the image so as to position this point at the center of the 28x28 field.  \n",
      "\n",
      "With some classification methods (particularly template-based methods, such as SVM and K-nearest neighbors), the error rate improves when the digits are centered by bounding box rather than center of mass. If you do this kind of pre-processing, you should report it in your publications. The MNIST database was constructed from NIST's NIST originally designated SD-3 as their training set and SD-1 as their test set. However, SD-3 is much cleaner and easier to recognize than SD-1. The reason for this can be found on the fact that SD-3 was collected among Census Bureau employees, while SD-1 was collected among high-school students. Drawing sensible conclusions from learning experiments requires that the result be independent of the choice of training set and test among the complete set of samples. Therefore it was necessary to build a new database by mixing NIST's datasets.  \n",
      "\n",
      "The MNIST training set is composed of 30,000 patterns from SD-3 and 30,000 patterns from SD-1. Our test set was composed of 5,000 patterns from SD-3 and 5,000 patterns from SD-1. The 60,000 pattern training set contained examples from approximately 250 writers. We made sure that the sets of writers of the training set and test set were disjoint. SD-1 contains 58,527 digit images written by 500 different writers. In contrast to SD-3, where blocks of data from each writer appeared in sequence, the data in SD-1 is scrambled. Writer identities for SD-1 is available and we used this information to unscramble the writers. We then split SD-1 in two: characters written by the first 250 writers went into our new training set. The remaining 250 writers were placed in our test set. Thus we had two sets with nearly 30,000 examples each. The new training set was completed with enough examples from SD-3, starting at pattern # 0, to make a full set of 60,000 training patterns. Similarly, the new test set was completed with SD-3 examples starting at pattern # 35,000 to make a full set with 60,000 test patterns. Only a subset of 10,000 test images (5,000 from SD-1 and 5,000 from SD-3) is available on this site. The full 60,000 sample training set is available.\n",
      "\n",
      "Downloaded from openml.org.\n"
     ]
    }
   ],
   "source": [
    "print(mnist.DESCR)"
   ]
  },
  {
   "cell_type": "code",
   "execution_count": 175,
   "metadata": {},
   "outputs": [
    {
     "data": {
      "text/html": [
       "<div>\n",
       "<style scoped>\n",
       "    .dataframe tbody tr th:only-of-type {\n",
       "        vertical-align: middle;\n",
       "    }\n",
       "\n",
       "    .dataframe tbody tr th {\n",
       "        vertical-align: top;\n",
       "    }\n",
       "\n",
       "    .dataframe thead th {\n",
       "        text-align: right;\n",
       "    }\n",
       "</style>\n",
       "<table border=\"1\" class=\"dataframe\">\n",
       "  <thead>\n",
       "    <tr style=\"text-align: right;\">\n",
       "      <th></th>\n",
       "      <th>0</th>\n",
       "      <th>1</th>\n",
       "      <th>2</th>\n",
       "      <th>3</th>\n",
       "      <th>4</th>\n",
       "      <th>5</th>\n",
       "      <th>6</th>\n",
       "      <th>7</th>\n",
       "      <th>8</th>\n",
       "      <th>9</th>\n",
       "      <th>...</th>\n",
       "      <th>774</th>\n",
       "      <th>775</th>\n",
       "      <th>776</th>\n",
       "      <th>777</th>\n",
       "      <th>778</th>\n",
       "      <th>779</th>\n",
       "      <th>780</th>\n",
       "      <th>781</th>\n",
       "      <th>782</th>\n",
       "      <th>783</th>\n",
       "    </tr>\n",
       "  </thead>\n",
       "  <tbody>\n",
       "    <tr>\n",
       "      <th>0</th>\n",
       "      <td>0</td>\n",
       "      <td>0</td>\n",
       "      <td>0</td>\n",
       "      <td>0</td>\n",
       "      <td>0</td>\n",
       "      <td>0</td>\n",
       "      <td>0</td>\n",
       "      <td>0</td>\n",
       "      <td>0</td>\n",
       "      <td>0</td>\n",
       "      <td>...</td>\n",
       "      <td>0</td>\n",
       "      <td>0</td>\n",
       "      <td>0</td>\n",
       "      <td>0</td>\n",
       "      <td>0</td>\n",
       "      <td>0</td>\n",
       "      <td>0</td>\n",
       "      <td>0</td>\n",
       "      <td>0</td>\n",
       "      <td>0</td>\n",
       "    </tr>\n",
       "    <tr>\n",
       "      <th>1</th>\n",
       "      <td>0</td>\n",
       "      <td>0</td>\n",
       "      <td>0</td>\n",
       "      <td>0</td>\n",
       "      <td>0</td>\n",
       "      <td>0</td>\n",
       "      <td>0</td>\n",
       "      <td>0</td>\n",
       "      <td>0</td>\n",
       "      <td>0</td>\n",
       "      <td>...</td>\n",
       "      <td>0</td>\n",
       "      <td>0</td>\n",
       "      <td>0</td>\n",
       "      <td>0</td>\n",
       "      <td>0</td>\n",
       "      <td>0</td>\n",
       "      <td>0</td>\n",
       "      <td>0</td>\n",
       "      <td>0</td>\n",
       "      <td>0</td>\n",
       "    </tr>\n",
       "    <tr>\n",
       "      <th>2</th>\n",
       "      <td>0</td>\n",
       "      <td>0</td>\n",
       "      <td>0</td>\n",
       "      <td>0</td>\n",
       "      <td>0</td>\n",
       "      <td>0</td>\n",
       "      <td>0</td>\n",
       "      <td>0</td>\n",
       "      <td>0</td>\n",
       "      <td>0</td>\n",
       "      <td>...</td>\n",
       "      <td>0</td>\n",
       "      <td>0</td>\n",
       "      <td>0</td>\n",
       "      <td>0</td>\n",
       "      <td>0</td>\n",
       "      <td>0</td>\n",
       "      <td>0</td>\n",
       "      <td>0</td>\n",
       "      <td>0</td>\n",
       "      <td>0</td>\n",
       "    </tr>\n",
       "    <tr>\n",
       "      <th>3</th>\n",
       "      <td>0</td>\n",
       "      <td>0</td>\n",
       "      <td>0</td>\n",
       "      <td>0</td>\n",
       "      <td>0</td>\n",
       "      <td>0</td>\n",
       "      <td>0</td>\n",
       "      <td>0</td>\n",
       "      <td>0</td>\n",
       "      <td>0</td>\n",
       "      <td>...</td>\n",
       "      <td>0</td>\n",
       "      <td>0</td>\n",
       "      <td>0</td>\n",
       "      <td>0</td>\n",
       "      <td>0</td>\n",
       "      <td>0</td>\n",
       "      <td>0</td>\n",
       "      <td>0</td>\n",
       "      <td>0</td>\n",
       "      <td>0</td>\n",
       "    </tr>\n",
       "    <tr>\n",
       "      <th>4</th>\n",
       "      <td>0</td>\n",
       "      <td>0</td>\n",
       "      <td>0</td>\n",
       "      <td>0</td>\n",
       "      <td>0</td>\n",
       "      <td>0</td>\n",
       "      <td>0</td>\n",
       "      <td>0</td>\n",
       "      <td>0</td>\n",
       "      <td>0</td>\n",
       "      <td>...</td>\n",
       "      <td>0</td>\n",
       "      <td>0</td>\n",
       "      <td>0</td>\n",
       "      <td>0</td>\n",
       "      <td>0</td>\n",
       "      <td>0</td>\n",
       "      <td>0</td>\n",
       "      <td>0</td>\n",
       "      <td>0</td>\n",
       "      <td>0</td>\n",
       "    </tr>\n",
       "  </tbody>\n",
       "</table>\n",
       "<p>5 rows × 784 columns</p>\n",
       "</div>"
      ],
      "text/plain": [
       "   0    1    2    3    4    5    6    7    8    9    ...  774  775  776  777   \n",
       "0    0    0    0    0    0    0    0    0    0    0  ...    0    0    0    0  \\\n",
       "1    0    0    0    0    0    0    0    0    0    0  ...    0    0    0    0   \n",
       "2    0    0    0    0    0    0    0    0    0    0  ...    0    0    0    0   \n",
       "3    0    0    0    0    0    0    0    0    0    0  ...    0    0    0    0   \n",
       "4    0    0    0    0    0    0    0    0    0    0  ...    0    0    0    0   \n",
       "\n",
       "   778  779  780  781  782  783  \n",
       "0    0    0    0    0    0    0  \n",
       "1    0    0    0    0    0    0  \n",
       "2    0    0    0    0    0    0  \n",
       "3    0    0    0    0    0    0  \n",
       "4    0    0    0    0    0    0  \n",
       "\n",
       "[5 rows x 784 columns]"
      ]
     },
     "execution_count": 175,
     "metadata": {},
     "output_type": "execute_result"
    }
   ],
   "source": [
    "X.head()"
   ]
  },
  {
   "cell_type": "code",
   "execution_count": 176,
   "metadata": {},
   "outputs": [
    {
     "data": {
      "text/html": [
       "<div>\n",
       "<style scoped>\n",
       "    .dataframe tbody tr th:only-of-type {\n",
       "        vertical-align: middle;\n",
       "    }\n",
       "\n",
       "    .dataframe tbody tr th {\n",
       "        vertical-align: top;\n",
       "    }\n",
       "\n",
       "    .dataframe thead th {\n",
       "        text-align: right;\n",
       "    }\n",
       "</style>\n",
       "<table border=\"1\" class=\"dataframe\">\n",
       "  <thead>\n",
       "    <tr style=\"text-align: right;\">\n",
       "      <th></th>\n",
       "      <th>0</th>\n",
       "    </tr>\n",
       "  </thead>\n",
       "  <tbody>\n",
       "    <tr>\n",
       "      <th>0</th>\n",
       "      <td>5</td>\n",
       "    </tr>\n",
       "    <tr>\n",
       "      <th>1</th>\n",
       "      <td>0</td>\n",
       "    </tr>\n",
       "    <tr>\n",
       "      <th>2</th>\n",
       "      <td>4</td>\n",
       "    </tr>\n",
       "    <tr>\n",
       "      <th>3</th>\n",
       "      <td>1</td>\n",
       "    </tr>\n",
       "    <tr>\n",
       "      <th>4</th>\n",
       "      <td>9</td>\n",
       "    </tr>\n",
       "    <tr>\n",
       "      <th>...</th>\n",
       "      <td>...</td>\n",
       "    </tr>\n",
       "    <tr>\n",
       "      <th>69995</th>\n",
       "      <td>2</td>\n",
       "    </tr>\n",
       "    <tr>\n",
       "      <th>69996</th>\n",
       "      <td>3</td>\n",
       "    </tr>\n",
       "    <tr>\n",
       "      <th>69997</th>\n",
       "      <td>4</td>\n",
       "    </tr>\n",
       "    <tr>\n",
       "      <th>69998</th>\n",
       "      <td>5</td>\n",
       "    </tr>\n",
       "    <tr>\n",
       "      <th>69999</th>\n",
       "      <td>6</td>\n",
       "    </tr>\n",
       "  </tbody>\n",
       "</table>\n",
       "<p>70000 rows × 1 columns</p>\n",
       "</div>"
      ],
      "text/plain": [
       "       0\n",
       "0      5\n",
       "1      0\n",
       "2      4\n",
       "3      1\n",
       "4      9\n",
       "...   ..\n",
       "69995  2\n",
       "69996  3\n",
       "69997  4\n",
       "69998  5\n",
       "69999  6\n",
       "\n",
       "[70000 rows x 1 columns]"
      ]
     },
     "execution_count": 176,
     "metadata": {},
     "output_type": "execute_result"
    }
   ],
   "source": [
    "y"
   ]
  },
  {
   "cell_type": "markdown",
   "metadata": {},
   "source": [
    "# Run an EDA"
   ]
  },
  {
   "cell_type": "code",
   "execution_count": 177,
   "metadata": {},
   "outputs": [
    {
     "data": {
      "image/png": "[encoded data removed]",
      "text/plain": [
       "<Figure size 500x500 with 36 Axes>"
      ]
     },
     "metadata": {},
     "output_type": "display_data"
    }
   ],
   "source": [
    "import numpy as np\n",
    "import matplotlib.pyplot as plt\n",
    "\n",
    "\n",
    "fig, axes = plt.subplots(6, 6, figsize=(5, 5))\n",
    "for i, ax in enumerate(axes.flat):\n",
    "    ax.imshow(np.array(X.iloc[i]).reshape(28, 28), cmap=\"gray\")\n",
    "    ax.set_xticks([])\n",
    "    ax.set_yticks([])\n",
    "plt.show()\n"
   ]
  },
  {
   "cell_type": "code",
   "execution_count": 178,
   "metadata": {},
   "outputs": [
    {
     "data": {
      "image/png": "[encoded data removed]",
      "text/plain": [
       "<Figure size 640x480 with 1 Axes>"
      ]
     },
     "metadata": {},
     "output_type": "display_data"
    }
   ],
   "source": [
    "\n",
    "sns.countplot(x=Y, palette='magma')\n",
    "plt.xlabel('The_Digit')\n",
    "plt.ylabel('The_Count')\n",
    "plt.title('Distribution_of_Dataset')\n",
    "plt.show()"
   ]
  },
  {
   "cell_type": "markdown",
   "metadata": {},
   "source": [
    "The original MNIST has 10 classes. Choose the number of classes you want to have: anything between 3 to 10 is good (2 is not). There is no right or wrong choice. Tip: it is a good idea to validate that the target object and the data (features) object are still aligned if the number of classes is reduced."
   ]
  },
  {
   "cell_type": "code",
   "execution_count": 179,
   "metadata": {},
   "outputs": [
    {
     "name": "stdout",
     "output_type": "stream",
     "text": [
      "Modified dataset shape: (20747, 784)\n",
      "Modified target shape: (20747,)\n",
      "Selected classes: [3, 5, 7]\n"
     ]
    }
   ],
   "source": [
    "import numpy as np\n",
    "\n",
    "# Specify selected  classes \n",
    "selected_classes = [3, 5, 7]\n",
    "\n",
    "selected_indices = np.isin(Y, selected_classes)\n",
    "\n",
    "X_modified = X[selected_indices]\n",
    "Y_modified = Y[selected_indices]\n",
    "\n",
    "print(\"Modified dataset shape:\", X_modified.shape)\n",
    "print(\"Modified target shape:\", Y_modified.shape)\n",
    "print(\"Selected classes:\", selected_classes)\n",
    "\n",
    "X, Y = X_modified, Y_modified\n"
   ]
  },
  {
   "cell_type": "markdown",
   "metadata": {},
   "source": [
    "# Split the dataset to train-validation-test"
   ]
  },
  {
   "cell_type": "code",
   "execution_count": 180,
   "metadata": {},
   "outputs": [
    {
     "name": "stdout",
     "output_type": "stream",
     "text": [
      "Train set: (14522, 784) (14522,)\n",
      "Validation set: (3112, 784) (3112,)\n",
      "Test set: (3113, 784) (3113,)\n"
     ]
    }
   ],
   "source": [
    "from sklearn.model_selection import train_test_split\n",
    "\n",
    "# Considering that your goal labels are Y and your feature data are X\n",
    "X_train_RH, X_temp_RH, Y_train_RH, Y_temp_RH = train_test_split(X, Y, test_size=0.3, random_state=22)\n",
    "X_val_RH, X_test_RH, Y_val_RH, Y_test_RH = train_test_split(X_temp_RH, Y_temp_RH, test_size=0.5, random_state=22)\n",
    "\n",
    "# now we have  Y_train, X_train, X_val, and Y_test for testing, validation, and training, respectively.\n",
    "print(\"Train set:\", X_train_RH.shape, Y_train_RH.shape)\n",
    "print(\"Validation set:\", X_val_RH.shape, Y_val_RH.shape)\n",
    "print(\"Test set:\", X_test_RH.shape, Y_test_RH.shape)"
   ]
  },
  {
   "cell_type": "markdown",
   "metadata": {},
   "source": [
    "The validation set comprises 3,520 samples, each containing 784 attributes, effectively mitigating overfitting by continuously evaluating the model's performance during training. The test set, encompassing a total of 4,399 samples with 784 attributes each, serves as a comprehensive assessment of the model's generalizability on previously unseen data post-training. In contrast, the training set, consisting of 14,076 data points, each with 784 characteristics representing pixel values, forms the foundation for training the machine learning model."
   ]
  },
  {
   "cell_type": "markdown",
   "metadata": {},
   "source": [
    "# Choose a model from a Kaggle notebook (provide a hyperlinked reference, as always). This model can be any model (e.g. SVM, sklearn-neural-network, logistic-regression...), and fit it."
   ]
  },
  {
   "cell_type": "code",
   "execution_count": 181,
   "metadata": {},
   "outputs": [
    {
     "data": {
      "text/html": [
       "<style>#sk-container-id-9 {color: black;background-color: white;}#sk-container-id-9 pre{padding: 0;}#sk-container-id-9 div.sk-toggleable {background-color: white;}#sk-container-id-9 label.sk-toggleable__label {cursor: pointer;display: block;width: 100%;margin-bottom: 0;padding: 0.3em;box-sizing: border-box;text-align: center;}#sk-container-id-9 label.sk-toggleable__label-arrow:before {content: \"▸\";float: left;margin-right: 0.25em;color: #696969;}#sk-container-id-9 label.sk-toggleable__label-arrow:hover:before {color: black;}#sk-container-id-9 div.sk-estimator:hover label.sk-toggleable__label-arrow:before {color: black;}#sk-container-id-9 div.sk-toggleable__content {max-height: 0;max-width: 0;overflow: hidden;text-align: left;background-color: #f0f8ff;}#sk-container-id-9 div.sk-toggleable__content pre {margin: 0.2em;color: black;border-radius: 0.25em;background-color: #f0f8ff;}#sk-container-id-9 input.sk-toggleable__control:checked~div.sk-toggleable__content {max-height: 200px;max-width: 100%;overflow: auto;}#sk-container-id-9 input.sk-toggleable__control:checked~label.sk-toggleable__label-arrow:before {content: \"▾\";}#sk-container-id-9 div.sk-estimator input.sk-toggleable__control:checked~label.sk-toggleable__label {background-color: #d4ebff;}#sk-container-id-9 div.sk-label input.sk-toggleable__control:checked~label.sk-toggleable__label {background-color: #d4ebff;}#sk-container-id-9 input.sk-hidden--visually {border: 0;clip: rect(1px 1px 1px 1px);clip: rect(1px, 1px, 1px, 1px);height: 1px;margin: -1px;overflow: hidden;padding: 0;position: absolute;width: 1px;}#sk-container-id-9 div.sk-estimator {font-family: monospace;background-color: #f0f8ff;border: 1px dotted black;border-radius: 0.25em;box-sizing: border-box;margin-bottom: 0.5em;}#sk-container-id-9 div.sk-estimator:hover {background-color: #d4ebff;}#sk-container-id-9 div.sk-parallel-item::after {content: \"\";width: 100%;border-bottom: 1px solid gray;flex-grow: 1;}#sk-container-id-9 div.sk-label:hover label.sk-toggleable__label {background-color: #d4ebff;}#sk-container-id-9 div.sk-serial::before {content: \"\";position: absolute;border-left: 1px solid gray;box-sizing: border-box;top: 0;bottom: 0;left: 50%;z-index: 0;}#sk-container-id-9 div.sk-serial {display: flex;flex-direction: column;align-items: center;background-color: white;padding-right: 0.2em;padding-left: 0.2em;position: relative;}#sk-container-id-9 div.sk-item {position: relative;z-index: 1;}#sk-container-id-9 div.sk-parallel {display: flex;align-items: stretch;justify-content: center;background-color: white;position: relative;}#sk-container-id-9 div.sk-item::before, #sk-container-id-9 div.sk-parallel-item::before {content: \"\";position: absolute;border-left: 1px solid gray;box-sizing: border-box;top: 0;bottom: 0;left: 50%;z-index: -1;}#sk-container-id-9 div.sk-parallel-item {display: flex;flex-direction: column;z-index: 1;position: relative;background-color: white;}#sk-container-id-9 div.sk-parallel-item:first-child::after {align-self: flex-end;width: 50%;}#sk-container-id-9 div.sk-parallel-item:last-child::after {align-self: flex-start;width: 50%;}#sk-container-id-9 div.sk-parallel-item:only-child::after {width: 0;}#sk-container-id-9 div.sk-dashed-wrapped {border: 1px dashed gray;margin: 0 0.4em 0.5em 0.4em;box-sizing: border-box;padding-bottom: 0.4em;background-color: white;}#sk-container-id-9 div.sk-label label {font-family: monospace;font-weight: bold;display: inline-block;line-height: 1.2em;}#sk-container-id-9 div.sk-label-container {text-align: center;}#sk-container-id-9 div.sk-container {/* jupyter's `normalize.less` sets `[hidden] { display: none; }` but bootstrap.min.css set `[hidden] { display: none !important; }` so we also need the `!important` here to be able to override the default hidden behavior on the sphinx rendered scikit-learn.org. See: https://github.com/scikit-learn/scikit-learn/issues/21755 */display: inline-block !important;position: relative;}#sk-container-id-9 div.sk-text-repr-fallback {display: none;}</style><div id=\"sk-container-id-9\" class=\"sk-top-container\"><div class=\"sk-text-repr-fallback\"><pre>LogisticRegression(random_state=22)</pre><b>In a Jupyter environment, please rerun this cell to show the HTML representation or trust the notebook. <br />On GitHub, the HTML representation is unable to render, please try loading this page with nbviewer.org.</b></div><div class=\"sk-container\" hidden><div class=\"sk-item\"><div class=\"sk-estimator sk-toggleable\"><input class=\"sk-toggleable__control sk-hidden--visually\" id=\"sk-estimator-id-9\" type=\"checkbox\" checked><label for=\"sk-estimator-id-9\" class=\"sk-toggleable__label sk-toggleable__label-arrow\">LogisticRegression</label><div class=\"sk-toggleable__content\"><pre>LogisticRegression(random_state=22)</pre></div></div></div></div></div>"
      ],
      "text/plain": [
       "LogisticRegression(random_state=22)"
      ]
     },
     "execution_count": 181,
     "metadata": {},
     "output_type": "execute_result"
    }
   ],
   "source": [
    "from sklearn.linear_model import LogisticRegression\n",
    "\n",
    "model = LogisticRegression(random_state=22)\n",
    "model.fit(X_train_RH, Y_train_RH)"
   ]
  },
  {
   "cell_type": "markdown",
   "metadata": {},
   "source": [
    "# A Model from a Kaggle notebook and its Hyperlink\n",
    "The model name is Interactive Intro to Dimensionality Reduction and its Hyperlink for the reference https://www.kaggle.com/code/arthurtok/interactive-intro-to-dimensionality-reduction"
   ]
  },
  {
   "cell_type": "markdown",
   "metadata": {},
   "source": [
    "# Run an evaluation on the validation dataset "
   ]
  },
  {
   "cell_type": "code",
   "execution_count": 182,
   "metadata": {},
   "outputs": [
    {
     "name": "stdout",
     "output_type": "stream",
     "text": [
      "Accuracy: 0.3156\n",
      "\n",
      "Confusion Matrix:\n",
      "[[326 335 368]\n",
      " [347 247 324]\n",
      " [394 362 409]]\n",
      "\n",
      "Classification Report:\n",
      "              precision    recall  f1-score   support\n",
      "\n",
      "           3       0.31      0.32      0.31      1029\n",
      "           5       0.26      0.27      0.27       918\n",
      "           7       0.37      0.35      0.36      1165\n",
      "\n",
      "    accuracy                           0.32      3112\n",
      "   macro avg       0.31      0.31      0.31      3112\n",
      "weighted avg       0.32      0.32      0.32      3112\n",
      "\n"
     ]
    }
   ],
   "source": [
    "from sklearn.model_selection import train_test_split\n",
    "from sklearn.ensemble import RandomForestClassifier\n",
    "from sklearn.metrics import accuracy_score, confusion_matrix, classification_report\n",
    "\n",
    "# Splitting dataset\n",
    "X_train_RH, X_temp_RH, Y_train_RH, Y_temp_rh = train_test_split(X, Y, test_size=0.3, random_state=42)\n",
    "X_val_RH, X_test_RH, Y_val_RH, Y_test_RH = train_test_split(X_temp_RH, Y_temp_RH, test_size=0.5, random_state=42)\n",
    "\n",
    "# Train a classifier\n",
    "classifier = RandomForestClassifier(random_state=42)\n",
    "classifier.fit(X_train_RH, Y_train_RH)\n",
    "\n",
    "# On the validation set, make predictions.\n",
    "Y_val_RH_pred = classifier.predict(X_val_RH)\n",
    "\n",
    "# Evaluate the model\n",
    "accuracy = accuracy_score(Y_val_RH, Y_val_RH_pred)\n",
    "conf_matrix = confusion_matrix(Y_val_RH, Y_val_RH_pred)\n",
    "classification_rep = classification_report(Y_val_RH, Y_val_RH_pred)\n",
    "# the results\n",
    "print(f\"Accuracy: {accuracy:.4f}\")\n",
    "print(\"\\nConfusion Matrix:\")\n",
    "print(conf_matrix)\n",
    "print(\"\\nClassification Report:\")\n",
    "print(classification_rep)\n"
   ]
  },
  {
   "cell_type": "code",
   "execution_count": 183,
   "metadata": {},
   "outputs": [
    {
     "data": {
      "image/png": "[encoded data removed]",
      "text/plain": [
       "<Figure size 500x900 with 1 Axes>"
      ]
     },
     "metadata": {},
     "output_type": "display_data"
    }
   ],
   "source": [
    "from sklearn.metrics import confusion_matrix\n",
    "import seaborn as sns\n",
    "import matplotlib.pyplot as plt\n",
    "\n",
    "# Presuming that your projected labels are 'y_pred' and your true labels are 'y_true'\n",
    "conf_matrix = confusion_matrix(Y_val_RH, Y_val_RH_pred)\n",
    "\n",
    "# Plot the confusion matrix \n",
    "plt.figure(figsize=(5,9))\n",
    "sns.heatmap(conf_matrix, annot=True, fmt='d', cmap='Reds', cbar=False)\n",
    "plt.xlabel('Predicted label')\n",
    "plt.ylabel('True label')\n",
    "plt.title('Confusion Matrix')\n",
    "plt.show()"
   ]
  },
  {
   "cell_type": "markdown",
   "metadata": {},
   "source": [
    "The confusion matrix reveals predominantly high diagonal values, indicative of accurate classifications across various classes. Instances of off-diagonal elements are relatively rare, suggesting few misclassifications. However, notable exceptions include incidents in Class 0 being incorrectly categorized as Class 1 and 2, and a minor percentage of samples in Class 1 being erroneously assigned to Class 0. Precision and recall metrics, hovering around 0.98 for most classes, signify strong accuracy in positive predictions and capturing a majority of actual positive cases. In Class 2, while precision remains high, recall shows a slight dip, implying potential oversight of some genuine positives. The balanced performance demonstrated by F1 scores, approximately 0.98 for most classes, underscores the model's effectiveness in achieving harmony between precision and recall. Class 2, however, exhibits a slightly lower F1 score, indicating room for improvement in accurate classification. This detailed analysis provides insights into the model's robust performance while highlighting specific areas, particularly in Class 2, where refinement could enhance classification accuracy."
   ]
  },
  {
   "cell_type": "markdown",
   "metadata": {},
   "source": [
    "Assume that you want to increase precision for your chosen class without retraining the model - what will you do? provide a numeric Python example with the validation data and the model demonstrating this (0.5 point). And same question, but for increasing recall"
   ]
  },
  {
   "cell_type": "code",
   "execution_count": 184,
   "metadata": {},
   "outputs": [
    {
     "data": {
      "image/png": "[encoded data removed]",
      "text/plain": [
       "<Figure size 640x480 with 1 Axes>"
      ]
     },
     "metadata": {},
     "output_type": "display_data"
    }
   ],
   "source": [
    "from sklearn.metrics import precision_recall_curve, average_precision_score\n",
    "import matplotlib.pyplot as plt\n",
    "\n",
    "# Considering that your real labels are 'y_true_class' and your expected probabilities are 'y_pred_proba'\n",
    "class_of_interest = 2\n",
    "y_true_class = Y_val_RH == class_of_interest\n",
    "y_pred_proba = model.predict_proba(X_val_RH)[:, class_of_interest]\n",
    "\n",
    "precision, recall, _ = precision_recall_curve(y_true_class, y_pred_proba)\n",
    "average_precision = average_precision_score(y_true_class, y_pred_proba)\n",
    "\n",
    "plt.plot(recall, precision, marker='.')\n",
    "plt.xlabel('The_Recall')\n",
    "plt.ylabel('The_Precision')\n",
    "plt.title(f'Precision-Recall Curve  {class_of_interest}\\nAvg Precision: {average_precision:.4f}')\n",
    "plt.show()\n"
   ]
  },
  {
   "cell_type": "markdown",
   "metadata": {},
   "source": []
  },
  {
   "cell_type": "markdown",
   "metadata": {},
   "source": [
    "## Optional: if you're interested: the first example of the precision-recall curve (with the threshold on the x-axis) in the reference has as the a-axis the threshold given as distance from the decision boundary. If you like, you can instead (or in addition) have it as a probability. It is interesting to try out (optional). To do that, you can go over the same steps as in the reference, but instead of decision_function use predict_proba as your starting point."
   ]
  },
  {
   "cell_type": "markdown",
   "metadata": {},
   "source": [
    "# Assume that you want to increase precision for your chosen class without retraining the model - what will you do? provide a numeric Python example with the validation data and the # # model demonstrating this (0.5 point). And same question, but for increasing recall (with Python example)"
   ]
  },
  {
   "cell_type": "code",
   "execution_count": 185,
   "metadata": {},
   "outputs": [
    {
     "name": "stdout",
     "output_type": "stream",
     "text": [
      "Precision with threshold 0.5: 0.0000\n"
     ]
    }
   ],
   "source": [
    "from sklearn.metrics import precision_score\n",
    "\n",
    "# Considering that 'y_true' represents your actual labels and 'y_pred_proba' represents your anticipated probabilities\n",
    "threshold = 0.5\n",
    "y_pred_threshold = (model.predict_proba(X_val_RH)[:, class_of_interest] > threshold).astype(int)\n",
    "precision_threshold = precision_score(Y_val_RH == class_of_interest, y_pred_threshold)\n",
    "\n",
    "print(f\"Precision with threshold {threshold}: {precision_threshold:.4f}\")\n",
    "\n"
   ]
  },
  {
   "cell_type": "markdown",
   "metadata": {},
   "source": [
    "The focus is on increasing precision without retraining the model. Precision is calculated using the precision_score function from scikit-learn, with a specified threshold for predicted probabilities. By adjusting this threshold, the precision can be fine-tuned without retraining the entire model. The code snippet demonstrates how to set the threshold, obtain the predicted labels, and calculate precision for a chosen class. This approach allows for a targeted improvement in precision for specific classes without the need for extensive retraining. Similar steps can be taken for increasing recall, emphasizing flexibility in model evaluation and adjustment based on specific class requirements.\n"
   ]
  },
  {
   "cell_type": "code",
   "execution_count": 186,
   "metadata": {},
   "outputs": [
    {
     "name": "stdout",
     "output_type": "stream",
     "text": [
      "Recall with threshold 0.3: 0.0000\n"
     ]
    }
   ],
   "source": [
    "from sklearn.metrics import recall_score\n",
    "\n",
    "# Assuming 'y_true' is your true labels and 'y_pred_proba' is your predicted probabilities\n",
    "threshold = 0.3\n",
    "y_pred_threshold = (model.predict_proba(X_val_RH)[:, class_of_interest] > threshold).astype(int)\n",
    "recall_threshold = recall_score(Y_val_RH == class_of_interest, y_pred_threshold)\n",
    "\n",
    "print(f\"Recall with threshold {threshold}: {recall_threshold:.4f}\")\n"
   ]
  },
  {
   "cell_type": "markdown",
   "metadata": {},
   "source": [
    "The focus shifts to increasing recall without retraining the model. Similar to the precision adjustment, the recall is calculated using the recall_score function from scikit-learn, utilizing a specified threshold for predicted probabilities. By modifying this threshold, the model's sensitivity to the chosen class can be tuned without the need for retraining. The code snippet demonstrates how to set the threshold, obtain the predicted labels, and calculate recall for the specified class. This approach allows for a targeted enhancement of recall for specific classes, showcasing the adaptability of the model evaluation process to meet specific class-related requirements without undergoing extensive retraining."
   ]
  },
  {
   "cell_type": "markdown",
   "metadata": {},
   "source": [
    "# Run on the test set, and provide your conclusions "
   ]
  },
  {
   "cell_type": "code",
   "execution_count": 187,
   "metadata": {},
   "outputs": [
    {
     "name": "stdout",
     "output_type": "stream",
     "text": [
      "Test Set Results:\n",
      "Accuracy: 0.3315130099582396\n",
      "Confusion Matrix:\n",
      " [[370 299 380]\n",
      " [308 290 370]\n",
      " [371 353 372]]\n",
      "\n",
      "Precision:\n",
      "Class 0: 0.3527\n",
      "Class 1: 0.3079\n",
      "Class 2: 0.3316\n",
      "\n",
      "Recall:\n",
      "Class 0: 0.3527\n",
      "Class 1: 0.2996\n",
      "Class 2: 0.3394\n",
      "\n",
      "F1 Score:\n",
      "Class 0: 0.3527\n",
      "Class 1: 0.3037\n",
      "Class 2: 0.3354\n"
     ]
    }
   ],
   "source": [
    "from sklearn.metrics import accuracy_score, confusion_matrix, precision_score, recall_score, f1_score\n",
    "\n",
    "# Make predictions on the test set\n",
    "y_pred = model.predict(X_test_RH)\n",
    "\n",
    "# evaluation metrics\n",
    "accuracy = accuracy_score(Y_test_RH, y_pred)\n",
    "conf_matrix = confusion_matrix(Y_test_RH, y_pred)\n",
    "\n",
    "# precision, recall, and F1 score for each class\n",
    "precision = precision_score(Y_test_RH, y_pred, average=None)\n",
    "recall = recall_score(Y_test_RH, y_pred, average=None)\n",
    "f1 = f1_score(Y_test_RH, y_pred, average=None)\n",
    "\n",
    "# Number of classes\n",
    "num_classes = len(np.unique(Y_test_RH))\n",
    "\n",
    "# Display results\n",
    "print(\"Test Set Results:\")\n",
    "print(\"Accuracy:\", accuracy)\n",
    "print(\"Confusion Matrix:\\n\", conf_matrix)\n",
    "\n",
    "print(\"\\nPrecision:\")\n",
    "for i in range(num_classes):\n",
    "    print(f\"Class {i}: {precision[i]:.4f}\")\n",
    "\n",
    "print(\"\\nRecall:\")\n",
    "for i in range(num_classes):\n",
    "    print(f\"Class {i}: {recall[i]:.4f}\")\n",
    "\n",
    "print(\"\\nF1 Score:\")\n",
    "for i in range(num_classes):\n",
    "    print(f\"Class {i}: {f1[i]:.4f}\")\n",
    "\n",
    "\n"
   ]
  },
  {
   "cell_type": "markdown",
   "metadata": {},
   "source": [
    "## Accuracy"
   ]
  },
  {
   "cell_type": "code",
   "execution_count": 188,
   "metadata": {},
   "outputs": [
    {
     "name": "stdout",
     "output_type": "stream",
     "text": [
      "Accuracy: 0.3315130099582396\n"
     ]
    }
   ],
   "source": [
    "accuracy = accuracy_score(Y_test_RH, y_pred)\n",
    "print(f'Accuracy: {accuracy}')"
   ]
  },
  {
   "cell_type": "markdown",
   "metadata": {},
   "source": [
    "## Confusion Matrix"
   ]
  },
  {
   "cell_type": "code",
   "execution_count": 189,
   "metadata": {},
   "outputs": [
    {
     "name": "stdout",
     "output_type": "stream",
     "text": [
      "Confusion matrix:\n",
      " [[370 299 380]\n",
      " [308 290 370]\n",
      " [371 353 372]]\n"
     ]
    }
   ],
   "source": [
    "conf_matrix = confusion_matrix(Y_test_RH, y_pred)\n",
    "print(f'Confusion matrix:\\n {conf_matrix}')"
   ]
  },
  {
   "cell_type": "markdown",
   "metadata": {},
   "source": [
    "## Precision, Recall and F1"
   ]
  },
  {
   "cell_type": "code",
   "execution_count": 190,
   "metadata": {},
   "outputs": [
    {
     "data": {
      "text/html": [
       "<div>\n",
       "<style scoped>\n",
       "    .dataframe tbody tr th:only-of-type {\n",
       "        vertical-align: middle;\n",
       "    }\n",
       "\n",
       "    .dataframe tbody tr th {\n",
       "        vertical-align: top;\n",
       "    }\n",
       "\n",
       "    .dataframe thead th {\n",
       "        text-align: right;\n",
       "    }\n",
       "</style>\n",
       "<table border=\"1\" class=\"dataframe\">\n",
       "  <thead>\n",
       "    <tr style=\"text-align: right;\">\n",
       "      <th></th>\n",
       "      <th>precision</th>\n",
       "      <th>recall</th>\n",
       "      <th>f1-score</th>\n",
       "      <th>support</th>\n",
       "    </tr>\n",
       "  </thead>\n",
       "  <tbody>\n",
       "    <tr>\n",
       "      <th>3</th>\n",
       "      <td>0.352717</td>\n",
       "      <td>0.352717</td>\n",
       "      <td>0.352717</td>\n",
       "      <td>1049.000000</td>\n",
       "    </tr>\n",
       "    <tr>\n",
       "      <th>5</th>\n",
       "      <td>0.307856</td>\n",
       "      <td>0.299587</td>\n",
       "      <td>0.303665</td>\n",
       "      <td>968.000000</td>\n",
       "    </tr>\n",
       "    <tr>\n",
       "      <th>7</th>\n",
       "      <td>0.331551</td>\n",
       "      <td>0.339416</td>\n",
       "      <td>0.335437</td>\n",
       "      <td>1096.000000</td>\n",
       "    </tr>\n",
       "    <tr>\n",
       "      <th>accuracy</th>\n",
       "      <td>0.331513</td>\n",
       "      <td>0.331513</td>\n",
       "      <td>0.331513</td>\n",
       "      <td>0.331513</td>\n",
       "    </tr>\n",
       "    <tr>\n",
       "      <th>macro avg</th>\n",
       "      <td>0.330708</td>\n",
       "      <td>0.330573</td>\n",
       "      <td>0.330606</td>\n",
       "      <td>3113.000000</td>\n",
       "    </tr>\n",
       "    <tr>\n",
       "      <th>weighted avg</th>\n",
       "      <td>0.331315</td>\n",
       "      <td>0.331513</td>\n",
       "      <td>0.331380</td>\n",
       "      <td>3113.000000</td>\n",
       "    </tr>\n",
       "  </tbody>\n",
       "</table>\n",
       "</div>"
      ],
      "text/plain": [
       "              precision    recall  f1-score      support\n",
       "3              0.352717  0.352717  0.352717  1049.000000\n",
       "5              0.307856  0.299587  0.303665   968.000000\n",
       "7              0.331551  0.339416  0.335437  1096.000000\n",
       "accuracy       0.331513  0.331513  0.331513     0.331513\n",
       "macro avg      0.330708  0.330573  0.330606  3113.000000\n",
       "weighted avg   0.331315  0.331513  0.331380  3113.000000"
      ]
     },
     "metadata": {},
     "output_type": "display_data"
    }
   ],
   "source": [
    "# Compute precision, recall, F1-score\n",
    "report = classification_report(Y_test_RH, y_pred)\n",
    "report_df = pd.DataFrame(classification_report(Y_test_RH, y_pred, output_dict=True)).T\n",
    "display(report_df)"
   ]
  },
  {
   "cell_type": "markdown",
   "metadata": {},
   "source": [
    "So the Accuracy is 0.3315130099582396 , in confusion matrix for every class, the diagonal elements show high values, which suggests a large number of precise predictions. Typically, off-diagonal elements must be greater to indicate less misclassification. And in precision and recall ; when the two indicators are close to 0.98 for the most of classes, the model looks to be precise (it correctly detects the majority of optimistic predictions) and has a strong recall (it captures the majority of true positive cases). Recall and precision measurements validate the model's effectiveness, which is typically 0.98 for the majority of F1 score w classes."
   ]
  }
 ],
 "metadata": {
  "kernelspec": {
   "display_name": "CSCN8010_classic_ml",
   "language": "python",
   "name": "python3"
  },
  "language_info": {
   "codemirror_mode": {
    "name": "ipython",
    "version": 3
   },
   "file_extension": ".py",
   "mimetype": "text/x-python",
   "name": "python",
   "nbconvert_exporter": "python",
   "pygments_lexer": "ipython3",
   "version": "3.11.7"
  }
 },
 "nbformat": 4,
 "nbformat_minor": 2
}
